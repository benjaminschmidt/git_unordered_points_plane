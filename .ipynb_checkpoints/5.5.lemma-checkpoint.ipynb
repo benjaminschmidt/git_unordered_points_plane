{
 "cells": [
  {
   "cell_type": "code",
   "execution_count": 8,
   "metadata": {},
   "outputs": [],
   "source": [
    "# ****************************************************************************\n",
    "#       Copyright (C) 2022 Patricio Gallardo, Benjamin Schmidt\n",
    "#       Contact: <pgallard@ucr.edu, schmbe@gmail.com>\n",
    "#\n",
    "# This program is free software: you can redistribute it and/or modify\n",
    "# it under the terms of the GNU General Public License as published by\n",
    "# the Free Software Foundation, either version 3 of the License, or\n",
    "# (at your option) any later version.\n",
    "#\n",
    "# This program is distributed in the hope that it will be useful,\n",
    "# but WITHOUT ANY WARRANTY; without even the implied warranty of\n",
    "# MERCHANTABILITY or FITNESS FOR A PARTICULAR PURPOSE. See the\n",
    "# GNU General Public License for more details.\n",
    "#\n",
    "# You should have received a copy of the GNU General Public License\n",
    "# along with this program.  If not, see <https://www.gnu.org/licenses/>.\n",
    "# ****************************************************************************"
   ]
  },
  {
   "cell_type": "markdown",
   "metadata": {},
   "source": [
    "Let $\\widetilde{X}_1 := \\overline{\\operatorname{SL}_3 \\cdot \\{ [a_0 e_0 + \\ldots + a_4 e_4 + a_6 e_6 + a_7 e_7]: a_0, \\ldots, a_4, a_6, a_7 \\in \\mathbb{C} \\}}$, $J := (x^2, xy^2, y^3 + xyz + xz^2)$, $K_u := (z, ux^2 + y^2)$, and $I_u := J \\cap K_u$.\n",
    "\n",
    "# Lemma\n",
    "We have $\\widetilde{X}_1 = \\overline{\\operatorname{SL}_3 \\cdot \\{ [u e_0 + e_2 + e_4 + e_6]: \\ u \\in \\mathbb{C} \\}}$. Moreover, the point $[u e_0 + e_2 + e_4 + e_6]$ corresponds to the ideal $I_u$.\n",
    "\n",
    "# Proof"
   ]
  },
  {
   "cell_type": "code",
   "execution_count": 9,
   "metadata": {},
   "outputs": [],
   "source": [
    "from library import coeff_to_point, group_action\n",
    "a = list(var('a_%d' % i) for i in range(15))\n",
    "var('r, s, t, u');"
   ]
  },
  {
   "cell_type": "markdown",
   "metadata": {},
   "source": [
    "The function `group_action` computes the action of $\\operatorname{SL}_3$ on $H^0(\\Omega(4))$. The function `coeff_to_point` takes a list with coefficients of $e_0, \\ldots, e_{14}$ and returns the corresponding element of $H^0(\\Omega(4))$ as another list of coefficients.\n",
    "\n",
    "For general coefficients $a_0, \\ldots, a_4, a_6, a_7 \\in \\mathbb{C}$, we get a section $a_0 e_0 + \\ldots + a_4 e_4 + a_6 e_6 + a_7 e_7 \\in H^0(\\Omega(4))$. Let $r, s, t \\in \\mathbb{C}$. Then we can act on $a_0 e_0 + \\ldots + a_4 e_4 + a_6 e_6 + a_7 e_7$ via\n",
    "\n",
    "$\\begin{pmatrix}\n",
    "1 & r & s \\\\\n",
    "0 & 1 & t \\\\\n",
    "0 & 0 & 1\n",
    "\\end{pmatrix}$"
   ]
  },
  {
   "cell_type": "code",
   "execution_count": 10,
   "metadata": {},
   "outputs": [
    {
     "data": {
      "text/plain": [
       "[a_2*r^2 + a_7*r*s + a_4*s*t + a_1*r + a_3*s + a_6*t + a_0,\n",
       " a_4*s^2 + 2*a_2*r + a_6*s + a_7*s + a_1,\n",
       " a_2,\n",
       " a_7*r + a_4*t + a_3,\n",
       " a_4,\n",
       " 0,\n",
       " a_4*s + a_6,\n",
       " a_4*s + a_7,\n",
       " 0,\n",
       " 0,\n",
       " 0,\n",
       " 0,\n",
       " 0,\n",
       " 0,\n",
       " 0]"
      ]
     },
     "execution_count": 10,
     "metadata": {},
     "output_type": "execute_result"
    }
   ],
   "source": [
    "A = matrix([[1, r, t],\n",
    "            [0, 1, s],\n",
    "            [0, 0, 1]])\n",
    "group_action([a[0], a[1], a[2], a[3], a[4], 0, a[6], a[7], 0, 0, 0, 0, 0, 0, 0], A)"
   ]
  },
  {
   "cell_type": "markdown",
   "metadata": {},
   "source": [
    "With the above base-change, we see that one can still obtain general orbits by choosing $a_1 = a_3 = a_7 = 0$. Next we act with a diagonal matrix:"
   ]
  },
  {
   "cell_type": "code",
   "execution_count": 11,
   "metadata": {},
   "outputs": [
    {
     "data": {
      "text/plain": [
       "[a_1*r^3*s,\n",
       " 0,\n",
       " a_3*r*s^3,\n",
       " 0,\n",
       " a_5*r^2*t^2,\n",
       " 0,\n",
       " a_7*r^2*s*t,\n",
       " 0,\n",
       " 0,\n",
       " 0,\n",
       " 0,\n",
       " 0,\n",
       " 0,\n",
       " 0,\n",
       " 0]"
      ]
     },
     "execution_count": 11,
     "metadata": {},
     "output_type": "execute_result"
    }
   ],
   "source": [
    "A = matrix([[r, 0, 0], [0, s, 0], [0, 0, t]])\n",
    "group_action([a[1], 0, a[3], 0, a[5], 0, a[7], 0, 0, 0, 0, 0, 0, 0, 0], A)"
   ]
  },
  {
   "cell_type": "markdown",
   "metadata": {},
   "source": [
    "By choosing appropriate $r,s,t$ we can reduce to $a_3 = a_5 = a_7 = 1$. We can compute the generators of the corresponding ideal:"
   ]
  },
  {
   "cell_type": "code",
   "execution_count": 12,
   "metadata": {},
   "outputs": [
    {
     "data": {
      "text/plain": [
       "(u*x^2*y + y^3 + x*y*z + x*z^2, -u*x^3 - x*y^2 - x^2*z, -x^2*z)"
      ]
     },
     "execution_count": 12,
     "metadata": {},
     "output_type": "execute_result"
    }
   ],
   "source": [
    "coeff_to_point([u, 0, 1, 0, 1, 0, 1, 0, 0, 0, 0, 0, 0, 0, 0])"
   ]
  },
  {
   "cell_type": "markdown",
   "metadata": {},
   "source": [
    "Via a primary decomposition, we can see that $I_u = (ux^2y + y^3 + xyz + xz^2, -ux^3 - xy^2 - x^2z, -x^2z) = J \\cap K_u$."
   ]
  },
  {
   "cell_type": "code",
   "execution_count": 13,
   "metadata": {},
   "outputs": [
    {
     "data": {
      "text/plain": [
       "[Ideal (x^2, y^3 + x*y*z + x*z^2, x*y^2) of Multivariate Polynomial Ring in u, x, y, z over Rational Field,\n",
       " Ideal (z, u*x^2 + y^2) of Multivariate Polynomial Ring in u, x, y, z over Rational Field]"
      ]
     },
     "execution_count": 13,
     "metadata": {},
     "output_type": "execute_result"
    }
   ],
   "source": [
    "R.<u, x, y, z> = PolynomialRing(QQ)\n",
    "I = R.ideal(u*x^2*y + y^3 + x*y*z + x*z^2, -u*x^3 - x*y^2 - x^2*z, -x^2*z)\n",
    "I.primary_decomposition()"
   ]
  },
  {
   "cell_type": "code",
   "execution_count": null,
   "metadata": {},
   "outputs": [],
   "source": []
  }
 ],
 "metadata": {
  "kernelspec": {
   "display_name": "SageMath 9.5",
   "language": "sage",
   "name": "sagemath"
  },
  "language_info": {
   "codemirror_mode": {
    "name": "ipython",
    "version": 3
   },
   "file_extension": ".py",
   "mimetype": "text/x-python",
   "name": "python",
   "nbconvert_exporter": "python",
   "pygments_lexer": "ipython3",
   "version": "3.8.10"
  }
 },
 "nbformat": 4,
 "nbformat_minor": 4
}
