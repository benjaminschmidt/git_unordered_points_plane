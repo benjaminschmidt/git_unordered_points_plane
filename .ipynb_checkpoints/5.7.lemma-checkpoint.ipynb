{
 "cells": [
  {
   "cell_type": "code",
   "execution_count": 1,
   "metadata": {},
   "outputs": [],
   "source": [
    "# ****************************************************************************\n",
    "#       Copyright (C) 2022 Patricio Gallardo, Benjamin Schmidt\n",
    "#       Contact: <pgallard@ucr.edu, schmbe@gmail.com>\n",
    "#\n",
    "# This program is free software: you can redistribute it and/or modify\n",
    "# it under the terms of the GNU General Public License as published by\n",
    "# the Free Software Foundation, either version 3 of the License, or\n",
    "# (at your option) any later version.\n",
    "#\n",
    "# This program is distributed in the hope that it will be useful,\n",
    "# but WITHOUT ANY WARRANTY; without even the implied warranty of\n",
    "# MERCHANTABILITY or FITNESS FOR A PARTICULAR PURPOSE. See the\n",
    "# GNU General Public License for more details.\n",
    "#\n",
    "# You should have received a copy of the GNU General Public License\n",
    "# along with this program.  If not, see <https://www.gnu.org/licenses/>.\n",
    "# ****************************************************************************"
   ]
  },
  {
   "cell_type": "markdown",
   "metadata": {},
   "source": [
    "Let $\\widetilde{X}_2 := \\overline{\\operatorname{SL}_3 \\cdot \\{ [a_0 e_0 + \\ldots + a_3 e_3 + a_6 e_6 + \\ldots + a_9 e_9 + a_{12} e_{12}]: \\ a_0, \\ldots, a_3, a_6, \\ldots, a_9, a_{12} \\in \\mathbb{C} \\}}$. For $t, u \\in \\mathbb{C} \\backslash \\{ 0 \\}$ with $t + u \\neq 0$, we define the ideals\n",
    "\\begin{align*}\n",
    "J_{t, u} &:= (xy, x^2 + (t + u)y^2), \\\\\n",
    "K_{t, u} &:= (x, y + (t + u)z), \\\\\n",
    "L_{t, u} &:= (y + tz, x^2 + xy + uy^2), \\\\\n",
    "I_{t, u} &:= J_{t, u} \\cap K_{t, u} \\cap L_{t, u}.\n",
    "\\end{align*}\n",
    "\n",
    "# Lemma\n",
    "We have $\\widetilde{X}_2 = \\overline{\\operatorname{SL}_3 \\cdot \\{ [e_2 + e_3 + e_7 + te_8 + ue_9]: \\ t, u \\in \\mathbb{C} \\}}$. Moreover, the point $[e_2 + e_3 + e_7 + te_8 + ue_9]$ corresponds to the ideal $I_{t, u}$.\n",
    "\n",
    "# Proof"
   ]
  },
  {
   "cell_type": "code",
   "execution_count": 8,
   "metadata": {},
   "outputs": [],
   "source": [
    "from library import coeff_to_point, group_action\n",
    "a = list(var('a_%d' % i) for i in range(15))\n",
    "var('q, r, s, t, u');"
   ]
  },
  {
   "cell_type": "markdown",
   "metadata": {},
   "source": [
    "The function `group_action` computes the action of $\\operatorname{SL}_3$ on $H^0(\\Omega(4))$. The function `coeff_to_point` takes a list with coefficients of $e_0, \\ldots, e_{14}$ and returns the corresponding element of $H^0(\\Omega(4))$ as another list of coefficients.\n",
    "\n",
    "For general coefficients $a_0, \\ldots, a_3, a_6, \\ldots, a_9, a_{12} \\in \\mathbb{C}$, we get a section $a_0 e_0 + \\ldots + a_3 e_3 + a_6 e_6 + \\ldots + a_9 e_9 + a_{12} e_{12} \\in H^0(\\Omega(4))$. Let $r, s \\in \\mathbb{C}$. Then we can act on $a_0 e_0 + \\ldots + a_3 e_3 + a_6 e_6 + \\ldots + a_9 e_9 + a_{12} e_{12}$ via\n",
    "\n",
    "$\\begin{pmatrix}\n",
    "1 & r & 0 \\\\\n",
    "s & 1 & 0 \\\\\n",
    "0 & 0 & 1\n",
    "\\end{pmatrix}$"
   ]
  },
  {
   "cell_type": "code",
   "execution_count": 3,
   "metadata": {},
   "outputs": [
    {
     "data": {
      "text/plain": [
       "[-a_2*r^3*t - a_1*r^2*t + a_2*r^2 - a_0*r*t + a_1*r + a_0,\n",
       " -a_1*r^2*t^2 - 2*a_2*r^2*t - 2*a_0*r*t^2 + 2*a_2*r + 2*a_0*t + a_1,\n",
       " -a_0*r*t^3 - a_1*r*t^2 - a_2*r*t + a_0*t^2 + a_1*t + a_2,\n",
       " a_12*r^3 + a_9*r^2 + a_7*r + a_3,\n",
       " 0,\n",
       " 0,\n",
       " -a_8*r^2*t - a_9*r^2*t - a_12*r^2 - a_6*r*t - a_7*r*t + a_8*r - a_3*t + a_6,\n",
       " a_9*r^2*t + 3*a_12*r^2 + 2*a_7*r*t + 2*a_9*r + 3*a_3*t + a_7,\n",
       " -a_6*r*t^2 - a_7*r*t^2 - a_8*r*t - 2*a_9*r*t - 2*a_3*t^2 - 2*a_12*r + a_6*t - a_7*t + a_8,\n",
       " a_7*r*t^2 + 2*a_9*r*t + 3*a_3*t^2 + 3*a_12*r + 2*a_7*t + a_9,\n",
       " 0,\n",
       " 0,\n",
       " a_3*t^3 + a_7*t^2 + a_9*t + a_12,\n",
       " 0,\n",
       " 0]"
      ]
     },
     "execution_count": 3,
     "metadata": {},
     "output_type": "execute_result"
    }
   ],
   "source": [
    "A = matrix([[1, r, 0],\n",
    "            [t, 1, 0],\n",
    "            [0, 0, 1]])\n",
    "group_action([a[0], a[1], a[2], a[3], 0, 0, a[6], a[7], a[8], a[9], 0, 0, a[12], 0, 0], A)"
   ]
  },
  {
   "cell_type": "markdown",
   "metadata": {},
   "source": [
    "For an appropriate choice of $r, s$, we see that one can still obtain general orbits by choosing $a_6 = a_{12} = 0$. Next we act with a diagonal matrix\n",
    "\n",
    "$\\begin{pmatrix}\n",
    "1 & 0 & r \\\\\n",
    "0 & 1 & s \\\\\n",
    "0 & 0 & 1\n",
    "\\end{pmatrix}$"
   ]
  },
  {
   "cell_type": "code",
   "execution_count": 4,
   "metadata": {},
   "outputs": [
    {
     "data": {
      "text/plain": [
       "[a_3*t + a_0,\n",
       " a_8*r + a_7*t + a_1,\n",
       " a_8*t + a_9*t + a_2,\n",
       " a_3,\n",
       " 0,\n",
       " 0,\n",
       " 0,\n",
       " a_7,\n",
       " a_8,\n",
       " a_9,\n",
       " 0,\n",
       " 0,\n",
       " 0,\n",
       " 0,\n",
       " 0]"
      ]
     },
     "execution_count": 4,
     "metadata": {},
     "output_type": "execute_result"
    }
   ],
   "source": [
    "A = matrix([[1, 0, r],\n",
    "            [0, 1, t],\n",
    "            [0, 0, 1]])\n",
    "group_action([a[0], a[1], a[2], a[3], 0, 0, 0, a[7], a[8], a[9], 0, 0, 0, 0, 0], A)"
   ]
  },
  {
   "cell_type": "markdown",
   "metadata": {},
   "source": [
    "For an appropriate choice of $r, t$, we see that one can still obtain general orbits by choosing $a_0 = a_1 = 0$. Next we act with a diagonal matrix."
   ]
  },
  {
   "cell_type": "code",
   "execution_count": 5,
   "metadata": {},
   "outputs": [
    {
     "data": {
      "text/plain": [
       "[0,\n",
       " 0,\n",
       " a_2*q,\n",
       " a_3*s,\n",
       " 0,\n",
       " 0,\n",
       " 0,\n",
       " a_7*r^4*s/q,\n",
       " a_8*r^8*s/q^2,\n",
       " a_9*r^8*s/q^2,\n",
       " 0,\n",
       " 0,\n",
       " 0,\n",
       " 0,\n",
       " 0]"
      ]
     },
     "execution_count": 5,
     "metadata": {},
     "output_type": "execute_result"
    }
   ],
   "source": [
    "A = matrix([[q/r^3, 0, 0], [0, r, 0], [0, 0, s*r^9/q^3]])\n",
    "group_action([0, 0, a[2], a[3], 0, 0, 0, a[7], a[8], a[9], 0, 0, 0, 0, 0], A)"
   ]
  },
  {
   "cell_type": "markdown",
   "metadata": {},
   "source": [
    "Again by choosing appropriate $q, r, s$ we can reduce to $a_2 = a_3 = a_7 = 1$. We can compute the generators of the corresponding ideal:"
   ]
  },
  {
   "cell_type": "code",
   "execution_count": 6,
   "metadata": {},
   "outputs": [
    {
     "data": {
      "text/plain": [
       "(t*y^2*z + u*y^2*z + y^3 + x^2*z + x*y*z, -t*x*y*z - x*y^2, -u*x*y^2 - x^3 - x^2*y)"
      ]
     },
     "execution_count": 6,
     "metadata": {},
     "output_type": "execute_result"
    }
   ],
   "source": [
    "var('t, u', domain=CC)\n",
    "coeff_to_point([0, 0, 1, 1, 0, 0, 0, 1, t, u, 0, 0, 0, 0, 0])"
   ]
  },
  {
   "cell_type": "markdown",
   "metadata": {},
   "source": [
    "Via a primary decomposition, we can see that $I_u = (ty^2z + uy^2z + y^3 + x^2z + xyz, -txyz - xy^2, -uxy^2 - x^3 - x^2y) = J_{t, u} \\cap K_{t, u} \\cap L_{t, u}$. We have to use that $(xy, y^3, ty^2 + uy^2 + x^2, x^3) = (xy, ty^2 + uy^2 + x^2)$ follows from $t + u \\neq 0$."
   ]
  },
  {
   "cell_type": "code",
   "execution_count": 7,
   "metadata": {},
   "outputs": [
    {
     "data": {
      "text/plain": [
       "[Ideal (x, t*z + u*z + y) of Multivariate Polynomial Ring in t, u, x, y, z over Rational Field,\n",
       " Ideal (x*y, y^3, t*y^2 + u*y^2 + x^2, x^3) of Multivariate Polynomial Ring in t, u, x, y, z over Rational Field,\n",
       " Ideal (t*z + y, u*y^2 + x^2 + x*y) of Multivariate Polynomial Ring in t, u, x, y, z over Rational Field]"
      ]
     },
     "execution_count": 7,
     "metadata": {},
     "output_type": "execute_result"
    }
   ],
   "source": [
    "R.<t, u, x, y, z> = PolynomialRing(QQ)\n",
    "I = R.ideal(t*y^2*z + u*y^2*z + y^3 + x^2*z + x*y*z, -t*x*y*z - x*y^2, -u*x*y^2 - x^3 - x^2*y)\n",
    "I.primary_decomposition()"
   ]
  },
  {
   "cell_type": "code",
   "execution_count": null,
   "metadata": {},
   "outputs": [],
   "source": []
  }
 ],
 "metadata": {
  "kernelspec": {
   "display_name": "SageMath 9.5",
   "language": "sage",
   "name": "sagemath"
  },
  "language_info": {
   "codemirror_mode": {
    "name": "ipython",
    "version": 3
   },
   "file_extension": ".py",
   "mimetype": "text/x-python",
   "name": "python",
   "nbconvert_exporter": "python",
   "pygments_lexer": "ipython3",
   "version": "3.8.10"
  }
 },
 "nbformat": 4,
 "nbformat_minor": 4
}
