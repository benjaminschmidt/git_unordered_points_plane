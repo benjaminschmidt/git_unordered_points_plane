{
 "cells": [
  {
   "cell_type": "code",
   "execution_count": 1,
   "metadata": {},
   "outputs": [],
   "source": [
    "# ****************************************************************************\n",
    "#       Copyright (C) 2022 Patricio Gallardo, Benjamin Schmidt\n",
    "#       Contact: <pgallard@ucr.edu, schmbe@gmail.com>\n",
    "#\n",
    "# This program is free software: you can redistribute it and/or modify\n",
    "# it under the terms of the GNU General Public License as published by\n",
    "# the Free Software Foundation, either version 3 of the License, or\n",
    "# (at your option) any later version.\n",
    "#\n",
    "# This program is distributed in the hope that it will be useful,\n",
    "# but WITHOUT ANY WARRANTY; without even the implied warranty of\n",
    "# MERCHANTABILITY or FITNESS FOR A PARTICULAR PURPOSE. See the\n",
    "# GNU General Public License for more details.\n",
    "#\n",
    "# You should have received a copy of the GNU General Public License\n",
    "# along with this program.  If not, see <https://www.gnu.org/licenses/>.\n",
    "# ****************************************************************************"
   ]
  },
  {
   "cell_type": "markdown",
   "metadata": {},
   "source": [
    "# Lemma\n",
    "\n",
    "Let $u, v, w, u', v', w' \\in \\mathbb{C}$ be general and let $A \\in \\operatorname{SL}_3$ be an upper triangular matrix. Then \n",
    "\n",
    "$A \\cdot [e_0 + e_2 + e_3 + ue_4 + ve_8 + we_9] = [e_0 + e_2 + e_3 + u'e_4 + v'e_8 + w'e_9]$\n",
    "\n",
    "if and only if either\n",
    "\n",
    "(i) $(u', v', w') = (u, v, w)$ and $A$ is a multiple of the identity, or\n",
    "    \n",
    "(ii) $(u', v', w') = (-u, v, w)$ and $A$ is a multiple of\n",
    "\n",
    "$\\begin{pmatrix}\n",
    "1 & 0  & 0 \\\\\n",
    "0 & -1 & 0 \\\\\n",
    "0 & 0  & -1\n",
    "\\end{pmatrix}$.\n",
    "\n",
    "# Proof"
   ]
  },
  {
   "cell_type": "code",
   "execution_count": 3,
   "metadata": {},
   "outputs": [],
   "source": [
    "from group_action import coeff_to_point, group_action\n",
    "a = list(var('a_%d' % i) for i in range(15))\n",
    "var('a, b, c, d, e, f, u, v, w, x, y, z');"
   ]
  },
  {
   "cell_type": "markdown",
   "metadata": {},
   "source": [
    "The function `group_action` computes the action of $\\operatorname{SL}_3$ on $H^0(\\Omega(4))$. The function `coeff_to_point` takes a list with coefficients of $e_0, \\ldots, e_{14}$ and returns the corresponding element of $H^0(\\Omega(4))$ as another list of coefficients.\n",
    "\n",
    "Let\n",
    "\n",
    "$A = \\begin{pmatrix}\n",
    "a & b & c \\\\\n",
    "0 & d & e \\\\\n",
    "0 & 0 & f\n",
    "\\end{pmatrix}$\n",
    "\n",
    "for $a, b, c, d, e, f \\in \\mathbb{C}$ with $adf = 1$. Then we can compute $A \\cdot [e_0 + e_2 + e_3 + ue_4 + ve_8 + we_9]$:"
   ]
  },
  {
   "cell_type": "code",
   "execution_count": 4,
   "metadata": {},
   "outputs": [
    {
     "data": {
      "text/plain": [
       "[a^2*c*e*u + a*b*c*d*v + a*b^2*e*w + a^3*d + a*b^2*d + a^3*e,\n",
       " a^2*e^2*u + a*c*d^2*v + a*b*d*e*v + 2*a*b*d*e*w + 2*a*b*d^2,\n",
       " a*d^2*e*v + a*d^2*e*w + a*d^3,\n",
       " a^2*c*f*u + a*b^2*f*w + a^3*f,\n",
       " a^2*f^2*u,\n",
       " 0,\n",
       " a^2*e*f*u + a*b*d*f*v,\n",
       " a^2*e*f*u + 2*a*b*d*f*w,\n",
       " a*d^2*f*v,\n",
       " a*d^2*f*w,\n",
       " 0,\n",
       " 0,\n",
       " 0,\n",
       " 0,\n",
       " 0]"
      ]
     },
     "execution_count": 4,
     "metadata": {},
     "output_type": "execute_result"
    }
   ],
   "source": [
    "A = matrix([[a, b, c], [0, d, e], [0, 0, f]])\n",
    "eq = group_action([1, 0, 1, 1, u, 0, 0, 0, v, w, 0, 0, 0, 0, 0], A)\n",
    "eq"
   ]
  },
  {
   "cell_type": "markdown",
   "metadata": {},
   "source": [
    "The equation $A \\cdot [e_0 + e_2 + e_3 + ue_4 + ve_8 + we_9] = [e_0 + e_2 + e_3 + u'e_4 + v'e_8 + w'e_9]$ implies that the following equation have to vanish (among others)."
   ]
  },
  {
   "cell_type": "code",
   "execution_count": 5,
   "metadata": {},
   "outputs": [
    {
     "data": {
      "text/plain": [
       "[a^2*e^2*u + a*c*d^2*v + a*b*d*e*v + 2*a*b*d*e*w + 2*a*b*d^2,\n",
       " a^2*c*e*u + a*b*c*d*v - a*d^2*e*v + a*b^2*e*w - a*d^2*e*w + a^3*d + a*b^2*d - a*d^3 + a^3*e,\n",
       " a^2*c*e*u - a^2*c*f*u + a*b*c*d*v + a*b^2*e*w - a*b^2*f*w + a^3*d + a*b^2*d + a^3*e - a^3*f,\n",
       " a^2*e*f*u + a*b*d*f*v,\n",
       " a^2*e*f*u + 2*a*b*d*f*w,\n",
       " a*d*f - 1]"
      ]
     },
     "execution_count": 5,
     "metadata": {},
     "output_type": "execute_result"
    }
   ],
   "source": [
    "eq2 = [eq[1], eq[0] - eq[2], eq[0] - eq[3], eq[6], eq[7], a*d*f - 1]\n",
    "eq2"
   ]
  },
  {
   "cell_type": "code",
   "execution_count": 6,
   "metadata": {},
   "outputs": [
    {
     "data": {
      "text/plain": [
       "[[a == 1, b == 0, c == 0, d == 1, e == 0, f == 1], [a == 1/2*I*sqrt(3) - 1/2, b == 0, c == 0, d == 1/2*I*sqrt(3) - 1/2, e == 0, f == 1/2*I*sqrt(3) - 1/2], [a == -1/2*I*sqrt(3) - 1/2, b == 0, c == 0, d == -1/2*I*sqrt(3) - 1/2, e == 0, f == -1/2*I*sqrt(3) - 1/2], [a == 1, b == 0, c == 0, d == -1, e == 0, f == -1], [a == 1/2*I*sqrt(3) - 1/2, b == 0, c == 0, d == -1/2*I*sqrt(3) + 1/2, e == 0, f == -1/2*I*sqrt(3) + 1/2], [a == -1/2*I*sqrt(3) - 1/2, b == 0, c == 0, d == 1/2*I*sqrt(3) + 1/2, e == 0, f == 1/2*I*sqrt(3) + 1/2]]"
      ]
     },
     "execution_count": 6,
     "metadata": {},
     "output_type": "execute_result"
    }
   ],
   "source": [
    "solve(eq2, [a, b, c, d, e, f])"
   ]
  },
  {
   "cell_type": "markdown",
   "metadata": {},
   "source": [
    "We are left with the cases described in the statement."
   ]
  },
  {
   "cell_type": "code",
   "execution_count": null,
   "metadata": {},
   "outputs": [],
   "source": []
  }
 ],
 "metadata": {
  "kernelspec": {
   "display_name": "SageMath 9.0",
   "language": "sage",
   "name": "sagemath"
  },
  "language_info": {
   "codemirror_mode": {
    "name": "ipython",
    "version": 3
   },
   "file_extension": ".py",
   "mimetype": "text/x-python",
   "name": "python",
   "nbconvert_exporter": "python",
   "pygments_lexer": "ipython3",
   "version": "3.8.10"
  }
 },
 "nbformat": 4,
 "nbformat_minor": 4
}
