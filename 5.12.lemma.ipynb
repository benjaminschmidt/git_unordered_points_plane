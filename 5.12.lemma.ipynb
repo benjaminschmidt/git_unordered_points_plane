{
 "cells": [
  {
   "cell_type": "code",
   "execution_count": 1,
   "metadata": {},
   "outputs": [],
   "source": [
    "# ****************************************************************************\n",
    "#       Copyright (C) 2022 Patricio Gallardo, Benjamin Schmidt\n",
    "#       Contact: <pgallard@ucr.edu, schmbe@gmail.com>\n",
    "#\n",
    "# This program is free software: you can redistribute it and/or modify\n",
    "# it under the terms of the GNU General Public License as published by\n",
    "# the Free Software Foundation, either version 3 of the License, or\n",
    "# (at your option) any later version.\n",
    "#\n",
    "# This program is distributed in the hope that it will be useful,\n",
    "# but WITHOUT ANY WARRANTY; without even the implied warranty of\n",
    "# MERCHANTABILITY or FITNESS FOR A PARTICULAR PURPOSE. See the\n",
    "# GNU General Public License for more details.\n",
    "#\n",
    "# You should have received a copy of the GNU General Public License\n",
    "# along with this program.  If not, see <https://www.gnu.org/licenses/>.\n",
    "# ****************************************************************************"
   ]
  },
  {
   "cell_type": "markdown",
   "metadata": {},
   "source": [
    "We define $\\widetilde{X}_3 := \\overline{\\operatorname{SL}_3 \\cdot \\{ [a_0 e_0 + \\ldots + a_4 e_4 + a_6 e_6 + \\ldots + a_9 e_9]: \\ a_0, \\ldots, a_4, a_6, \\ldots, a_9 \\in \\mathbb{C} \\}}$. For general $u, v, w \\in \\mathbb{C}$, we define the ideals\n",
    "\n",
    "\\begin{align*}\n",
    "J_{u, v, w} &:= (xy, x^2, uxz + (v + w)y^2), \\\\\n",
    "K_{u, v, w} &:= (x, y + (v + w)z), \\\\\n",
    "L_{u, v, w} &:= (x^2 + y^2 + vyz, x^2 + uxz + wy^2, (1 - w)xy + vxz + uyz + uvz^2), \\\\\n",
    "I_{u, v, w} &:= J_{u, v, w} \\cap K_{u, v, w} \\cap L_{u, v, w}.\n",
    "\\end{align*}\n",
    "\n",
    "# Lemma\n",
    "\n",
    "We have $X_3 = \\overline{\\operatorname{SL}_3 \\cdot \\{ [e_0 + e_2 + e_3 + ue_4 + ve_8 + we_9]: \\ u, v, w \\in \\mathbb{C} \\}}$. Moreover, the point $[e_0 + e_2 + e_3 + ue_4 + ve_8 + we_9]$ corresponds to the ideal $I_{u, v, w}$.\n",
    "\n",
    "# Proof"
   ]
  },
  {
   "cell_type": "code",
   "execution_count": 2,
   "metadata": {},
   "outputs": [],
   "source": [
    "from group_action import coeff_to_point, group_action\n",
    "a = list(var('a_%d' % i) for i in range(15))\n",
    "var('r, s, t, u, v, w');"
   ]
  },
  {
   "cell_type": "markdown",
   "metadata": {},
   "source": [
    "The function `group_action` computes the action of $\\operatorname{SL}_3$ on $H^0(\\Omega(4))$. The function `coeff_to_point` takes a list with coefficients of $e_0, \\ldots, e_{14}$ and returns the corresponding element of $H^0(\\Omega(4))$ as another list of coefficients.\n",
    "\n",
    "For general coefficients $a_0, \\ldots, a_4, a_6, \\ldots, a_9 \\in \\mathbb{C}$, we get a section $a_0 e_0 + \\ldots + a_4 e_4 + a_6 e_6 + \\ldots + a_9 e_9 \\in H^0(\\Omega(4))$. Let $r, s, t \\in \\mathbb{C}$. Then we can act on $a_0 e_0 + \\ldots + a_4 e_4 + a_6 e_6 + \\ldots + a_9 e_9$ with\n",
    "\n",
    "$\\begin{pmatrix}\n",
    "1 & r & s \\\\\n",
    "0 & 1 & t \\\\\n",
    "0 & 0 & 1\n",
    "\\end{pmatrix}$"
   ]
  },
  {
   "cell_type": "code",
   "execution_count": 3,
   "metadata": {},
   "outputs": [
    {
     "data": {
      "text/plain": [
       "[a_9*r^2*t + a_2*r^2 + a_8*r*s + a_7*r*t + a_4*s*t + a_1*r + a_6*s + a_3*t + a_0,\n",
       " a_8*r*t + 2*a_9*r*t + a_4*t^2 + 2*a_2*r + a_8*s + a_6*t + a_7*t + a_1,\n",
       " a_8*t + a_9*t + a_2,\n",
       " a_9*r^2 + a_7*r + a_4*s + a_3,\n",
       " a_4,\n",
       " 0,\n",
       " a_8*r + a_4*t + a_6,\n",
       " 2*a_9*r + a_4*t + a_7,\n",
       " a_8,\n",
       " a_9,\n",
       " 0,\n",
       " 0,\n",
       " 0,\n",
       " 0,\n",
       " 0]"
      ]
     },
     "execution_count": 3,
     "metadata": {},
     "output_type": "execute_result"
    }
   ],
   "source": [
    "A = matrix([[1, r, s], [0, 1, t], [0, 0, 1]])\n",
    "group_action([a[0], a[1], a[2], a[3], a[4], 0, a[6], a[7], a[8], a[9], 0, 0, 0, 0, 0], A)"
   ]
  },
  {
   "cell_type": "markdown",
   "metadata": {},
   "source": [
    "For an appropriate choice of $r, s, t$, we see that one can still obtain general orbits by choosing $a_1 = a_6 = a_7 = 0$. Next we act with a diagonal matrix\n",
    "\n",
    "$\\begin{pmatrix}\n",
    "r & 0 & 0 \\\\\n",
    "0 & s & 0 \\\\\n",
    "0 & 0 & t\n",
    "\\end{pmatrix}$:"
   ]
  },
  {
   "cell_type": "code",
   "execution_count": 12,
   "metadata": {},
   "outputs": [
    {
     "data": {
      "text/plain": [
       "[a_0*r^3*s,\n",
       " 0,\n",
       " a_2*r*s^3,\n",
       " a_3*r^3*t,\n",
       " a_4*r^2*t^2,\n",
       " 0,\n",
       " 0,\n",
       " 0,\n",
       " a_8*r*s^2*t,\n",
       " a_9*r*s^2*t,\n",
       " 0,\n",
       " 0,\n",
       " 0,\n",
       " 0,\n",
       " 0]"
      ]
     },
     "execution_count": 12,
     "metadata": {},
     "output_type": "execute_result"
    }
   ],
   "source": [
    "A = matrix([[r, 0, 0], [0, s, 0], [0, 0, t]])\n",
    "group_action([a[0], 0, a[2], a[3], a[4], 0, 0, 0, a[8], a[9], 0, 0, 0, 0, 0], A)"
   ]
  },
  {
   "cell_type": "markdown",
   "metadata": {},
   "source": [
    "Again by choosing appropriate $r, s, t$ we can reduce to $a_0 = a_2 = a_3 = 1$. We can compute the generators of the corresponding ideal:"
   ]
  },
  {
   "cell_type": "code",
   "execution_count": 13,
   "metadata": {},
   "outputs": [
    {
     "data": {
      "text/plain": [
       "(v*y^2*z + w*y^2*z + u*x*z^2 + x^2*y + y^3 + x^2*z, -v*x*y*z - x^3 - x*y^2, -w*x*y^2 - u*x^2*z - x^3)"
      ]
     },
     "execution_count": 13,
     "metadata": {},
     "output_type": "execute_result"
    }
   ],
   "source": [
    "coeff_to_point([1, 0, 1, 1, u, 0, 0, 0, v, w, 0, 0, 0, 0, 0])"
   ]
  },
  {
   "cell_type": "markdown",
   "metadata": {},
   "source": [
    "Therefore, we set $I_{u, v, w} = (vy^2z + wy^2z + uxz^2 + x^2y + y^3 + x^2z, -vxyz - x^3 - xy^2, -wxy^2 - ux^2z - x^3)$. We can check $I_{u, v, w} := J_{u, v, w} \\cap K_{u, v, w} \\cap L_{u, v, w}$ via a primary decomposition. We have to use that $(xy, x^2, y^3, (v + w)y^2 + uxz) = (xy, x^2, (v + w)y^2 + uxz)$ follows from the fact that $v$ and $w$ are general."
   ]
  },
  {
   "cell_type": "code",
   "execution_count": 14,
   "metadata": {},
   "outputs": [
    {
     "data": {
      "text/plain": [
       "[Ideal (x*y, x^2, y^3, v*y^2 + w*y^2 + u*x*z) of Multivariate Polynomial Ring in u, v, w, x, y, z over Rational Field,\n",
       " Ideal (x, v*z + w*z + y) of Multivariate Polynomial Ring in u, v, w, x, y, z over Rational Field,\n",
       " Ideal (v*y*z + x^2 + y^2, w*y^2 + u*x*z + x^2, u*v*z^2 - w*x*y + v*x*z + u*y*z + x*y) of Multivariate Polynomial Ring in u, v, w, x, y, z over Rational Field]"
      ]
     },
     "execution_count": 14,
     "metadata": {},
     "output_type": "execute_result"
    }
   ],
   "source": [
    "R.<u, v, w, x, y, z> = PolynomialRing(QQ)\n",
    "I = R.ideal(v*y^2*z + w*y^2*z + u*x*z^2 + x^2*y + y^3 + x^2*z, -v*x*y*z - x^3 - x*y^2, -w*x*y^2 - u*x^2*z - x^3)\n",
    "I.primary_decomposition()"
   ]
  },
  {
   "cell_type": "code",
   "execution_count": null,
   "metadata": {},
   "outputs": [],
   "source": []
  }
 ],
 "metadata": {
  "kernelspec": {
   "display_name": "SageMath 9.0",
   "language": "sage",
   "name": "sagemath"
  },
  "language_info": {
   "codemirror_mode": {
    "name": "ipython",
    "version": 3
   },
   "file_extension": ".py",
   "mimetype": "text/x-python",
   "name": "python",
   "nbconvert_exporter": "python",
   "pygments_lexer": "ipython3",
   "version": "3.8.10"
  }
 },
 "nbformat": 4,
 "nbformat_minor": 4
}
