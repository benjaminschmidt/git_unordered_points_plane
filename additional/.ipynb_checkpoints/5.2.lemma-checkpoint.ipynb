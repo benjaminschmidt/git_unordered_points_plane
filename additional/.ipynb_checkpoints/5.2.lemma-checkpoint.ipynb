{
 "cells": [
  {
   "cell_type": "code",
   "execution_count": 1,
   "metadata": {},
   "outputs": [],
   "source": [
    "# ****************************************************************************\n",
    "#       Copyright (C) 2022 Patricio Gallardo, Benjamin Schmidt\n",
    "#       Contact: <pgallard@ucr.edu, schmbe@gmail.com>\n",
    "#\n",
    "# This program is free software: you can redistribute it and/or modify\n",
    "# it under the terms of the GNU General Public License as published by\n",
    "# the Free Software Foundation, either version 3 of the License, or\n",
    "# (at your option) any later version.\n",
    "#\n",
    "# This program is distributed in the hope that it will be useful,\n",
    "# but WITHOUT ANY WARRANTY; without even the implied warranty of\n",
    "# MERCHANTABILITY or FITNESS FOR A PARTICULAR PURPOSE. See the\n",
    "# GNU General Public License for more details.\n",
    "#\n",
    "# You should have received a copy of the GNU General Public License\n",
    "# along with this program.  If not, see <https://www.gnu.org/licenses/>.\n",
    "# ****************************************************************************"
   ]
  },
  {
   "cell_type": "code",
   "execution_count": 2,
   "metadata": {},
   "outputs": [],
   "source": [
    "import os, sys\n",
    "sys.path.insert\n",
    "sys.path.insert(1, os.path.realpath(os.path.pardir))\n",
    "from library import group_action"
   ]
  },
  {
   "cell_type": "markdown",
   "metadata": {},
   "source": [
    "The function `group_action` computes the action of $\\operatorname{SL}_3$ on $H^0(\\Omega(4))$. "
   ]
  },
  {
   "cell_type": "code",
   "execution_count": 3,
   "metadata": {},
   "outputs": [
    {
     "name": "stdout",
     "output_type": "stream",
     "text": [
      "\\lambda_t e_0 = t^(r + 3)e_0\n",
      "\\lambda_t e_1 = t^(2*r + 2)e_1\n",
      "\\lambda_t e_2 = t^(3*r + 1)e_2\n",
      "\\lambda_t e_3 = t^(-r + 2)e_3\n",
      "\\lambda_t e_4 = 1/(t^(2*r))e_4\n",
      "\\lambda_t e_5 = t^(-3*r - 2)e_5\n",
      "\\lambda_t e_6 = te_6\n",
      "\\lambda_t e_7 = te_7\n",
      "\\lambda_t e_8 = t^re_8\n",
      "\\lambda_t e_9 = t^re_9\n",
      "\\lambda_t e_10 = t^(-r - 1)e_10\n",
      "\\lambda_t e_11 = t^(-r - 1)e_11\n",
      "\\lambda_t e_12 = t^(2*r - 1)e_12\n",
      "\\lambda_t e_13 = t^(-2)e_13\n",
      "\\lambda_t e_14 = t^(-2*r - 3)e_14\n"
     ]
    }
   ],
   "source": [
    "var('r, t')\n",
    "A = matrix([[t, 0  , 0],\n",
    "            [0, t^r, 0],\n",
    "            [0, 0  , t^(-1-r)]])\n",
    "for i in range(15):\n",
    "    print(\"\\\\lambda_t e_\" + str(i) + \" = \" + str(group_action([0]*i + [1] + [0]*(14 - i), A)[i].simplify()) + \"e_\" + str(i))"
   ]
  },
  {
   "cell_type": "code",
   "execution_count": null,
   "metadata": {},
   "outputs": [],
   "source": []
  }
 ],
 "metadata": {
  "kernelspec": {
   "display_name": "SageMath 9.5",
   "language": "sage",
   "name": "sagemath"
  },
  "language_info": {
   "codemirror_mode": {
    "name": "ipython",
    "version": 3
   },
   "file_extension": ".py",
   "mimetype": "text/x-python",
   "name": "python",
   "nbconvert_exporter": "python",
   "pygments_lexer": "ipython3",
   "version": "3.8.10"
  }
 },
 "nbformat": 4,
 "nbformat_minor": 4
}
