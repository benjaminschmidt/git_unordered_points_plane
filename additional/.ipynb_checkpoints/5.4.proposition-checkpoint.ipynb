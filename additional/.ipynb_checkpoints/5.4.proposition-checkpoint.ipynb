{
 "cells": [
  {
   "cell_type": "code",
   "execution_count": 1,
   "metadata": {},
   "outputs": [],
   "source": [
    "# ****************************************************************************\n",
    "#       Copyright (C) 2022 Patricio Gallardo, Benjamin Schmidt\n",
    "#       Contact: <pgallard@ucr.edu, schmbe@gmail.com>\n",
    "#\n",
    "# This program is free software: you can redistribute it and/or modify\n",
    "# it under the terms of the GNU General Public License as published by\n",
    "# the Free Software Foundation, either version 3 of the License, or\n",
    "# (at your option) any later version.\n",
    "#\n",
    "# This program is distributed in the hope that it will be useful,\n",
    "# but WITHOUT ANY WARRANTY; without even the implied warranty of\n",
    "# MERCHANTABILITY or FITNESS FOR A PARTICULAR PURPOSE. See the\n",
    "# GNU General Public License for more details.\n",
    "#\n",
    "# You should have received a copy of the GNU General Public License\n",
    "# along with this program.  If not, see <https://www.gnu.org/licenses/>.\n",
    "# ****************************************************************************"
   ]
  },
  {
   "cell_type": "code",
   "execution_count": 2,
   "metadata": {},
   "outputs": [],
   "source": [
    "var('x, y, z, a, b, c, d, e, f, u');"
   ]
  },
  {
   "cell_type": "markdown",
   "metadata": {},
   "source": [
    "Let $\\widetilde{X}_1 := \\overline{\\operatorname{SL}_3 \\cdot \\{ [a_0 e_0 + \\ldots + a_4 e_4 + a_6 e_6 + a_7 e_7]: a_0, \\ldots, a_4, a_6, a_7 \\in \\mathbb{C} \\}}$, $J := (x^2, xy^2, y^3 + xyz + xz^2)$, $K_u := (z, ux^2 + y^2)$, and $I_u := J \\cap K_u$. The locus $X_1$ is the closure of ideal sheaves of zero-dimensional length seven subschemes that contain two general reduced points and a third point projectively equivalent to the one cut out by the ideal $(x^2, xy^2, y^3 + xyz + xz^2)$.\n",
    "\n",
    "# Proposition\n",
    "\n",
    "$X_1 = \\widetilde{X}_1$\n",
    "\n",
    "# Proof\n",
    "Since both $\\widetilde{X}_1$ and $X_1$ are irreducible, it will be enough to show that they have the same dimension. We start by determining the dimension of the orbit of the subscheme cut out by $J$. Any element in the stabilizer must fix the line $x = 0$ and the point $(0:0:1)$, i.e., is an upper triangular matrix\n",
    "$A = \\begin{pmatrix} \n",
    "a & b & c \\\\\n",
    "0 & d & e \\\\\n",
    "0 & 0 & f\n",
    "\\end{pmatrix}$\n",
    "for $a, b, c, d, e, f \\in \\mathbb{C}$ such that $adf = 1$."
   ]
  },
  {
   "cell_type": "code",
   "execution_count": 3,
   "metadata": {},
   "outputs": [
    {
     "data": {
      "text/plain": [
       "a*b^2*x^3 + 2*a*b*d*x^2*y + a*d^2*x*y^2"
      ]
     },
     "execution_count": 3,
     "metadata": {},
     "output_type": "execute_result"
    }
   ],
   "source": [
    "(x*y^2).subs(x = a*x, y = b*x + d*y).expand()"
   ]
  },
  {
   "cell_type": "code",
   "execution_count": 4,
   "metadata": {},
   "outputs": [
    {
     "data": {
      "text/plain": [
       "b^3*x^3 + a*b*c*x^3 + a*c^2*x^3 + 3*b^2*d*x^2*y + a*c*d*x^2*y + a*b*e*x^2*y + 2*a*c*e*x^2*y + 3*b*d^2*x*y^2 + a*d*e*x*y^2 + a*e^2*x*y^2 + d^3*y^3 + a*b*f*x^2*z + 2*a*c*f*x^2*z + a*d*f*x*y*z + 2*a*e*f*x*y*z + a*f^2*x*z^2"
      ]
     },
     "execution_count": 4,
     "metadata": {},
     "output_type": "execute_result"
    }
   ],
   "source": [
    "(y^3 + x*y*z + x*z^2).subs(x = a*x, y = b*x + d*y, z = c*x + e*y + f*z).expand()"
   ]
  },
  {
   "cell_type": "markdown",
   "metadata": {},
   "source": [
    "From the above calculation, we can see that $A \\cdot J = (x^2, xy^2, d^3y^3 + af(d + 2e)xyz + af^2xz^2)$. Thus, $A \\cdot J = J$ if and only if $f = c + 2e$ and $c^3 = af^2$. Therefore, the stabilizer of $J$ has dimension $3$ and its orbit has dimension $5$. This implies $\\operatorname{dim} X_1  = 5 + 4 = 9$.\n",
    "\n",
    "Next, assume there are $u, u' \\in \\mathbb{C}$ and $A \\in \\operatorname{SL}_3$ such that $A I_u = I_{u'}$. Then $A$ must be in the stabilizer of $J$ and fix the line cut out by $z$, i.e., \n",
    "\n",
    "$A = \\begin{pmatrix}\n",
    "a & b & 0 \\\\\n",
    "0 & d & 0 \\\\\n",
    "0 & 0 & f\n",
    "\\end{pmatrix}$\n",
    "\n",
    "for $a, b, d, f \\in \\mathbb{C}$ with $adf = 1$, $f = d$, and $d = a$."
   ]
  },
  {
   "cell_type": "code",
   "execution_count": 5,
   "metadata": {},
   "outputs": [
    {
     "data": {
      "text/plain": [
       "a^2*u*x^2 + b^2*x^2 + 2*a*b*x*y + a^2*y^2"
      ]
     },
     "execution_count": 5,
     "metadata": {},
     "output_type": "execute_result"
    }
   ],
   "source": [
    "(u*x^2 + y^2).subs(x = a*x, y = b*x + a*y, z = a*z).expand()"
   ]
  },
  {
   "cell_type": "markdown",
   "metadata": {},
   "source": [
    "The above calculation shows $A \\cdot K_u = (z, a^2ux^2 + b^2x^2 + 2abxy + a^2y^2)$. Therefore, $A \\cdot K_u = K_{u'}$ if and only if $b = 0$ and $u = u'$. The same argument with $u = u'$ from the start shows that the stabilizer of $I_u$ is zero-dimensional. Therefore, the dimension of $\\widetilde{X}_1$ is indeed $1 + 8 = 9$."
   ]
  },
  {
   "cell_type": "code",
   "execution_count": null,
   "metadata": {},
   "outputs": [],
   "source": []
  }
 ],
 "metadata": {
  "kernelspec": {
   "display_name": "SageMath 9.5",
   "language": "sage",
   "name": "sagemath"
  },
  "language_info": {
   "codemirror_mode": {
    "name": "ipython",
    "version": 3
   },
   "file_extension": ".py",
   "mimetype": "text/x-python",
   "name": "python",
   "nbconvert_exporter": "python",
   "pygments_lexer": "ipython3",
   "version": "3.8.10"
  }
 },
 "nbformat": 4,
 "nbformat_minor": 4
}
