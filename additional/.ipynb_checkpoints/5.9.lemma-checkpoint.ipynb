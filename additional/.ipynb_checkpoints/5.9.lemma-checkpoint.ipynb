{
 "cells": [
  {
   "cell_type": "code",
   "execution_count": 1,
   "metadata": {},
   "outputs": [],
   "source": [
    "# ****************************************************************************\n",
    "#       Copyright (C) 2022 Patricio Gallardo, Benjamin Schmidt\n",
    "#       Contact: <pgallard@ucr.edu, schmbe@gmail.com>\n",
    "#\n",
    "# This program is free software: you can redistribute it and/or modify\n",
    "# it under the terms of the GNU General Public License as published by\n",
    "# the Free Software Foundation, either version 3 of the License, or\n",
    "# (at your option) any later version.\n",
    "#\n",
    "# This program is distributed in the hope that it will be useful,\n",
    "# but WITHOUT ANY WARRANTY; without even the implied warranty of\n",
    "# MERCHANTABILITY or FITNESS FOR A PARTICULAR PURPOSE. See the\n",
    "# GNU General Public License for more details.\n",
    "#\n",
    "# You should have received a copy of the GNU General Public License\n",
    "# along with this program.  If not, see <https://www.gnu.org/licenses/>.\n",
    "# ****************************************************************************"
   ]
  },
  {
   "cell_type": "code",
   "execution_count": 2,
   "metadata": {},
   "outputs": [],
   "source": [
    "var('x, y, z, a, b, c, d, e, f, t, u');"
   ]
  },
  {
   "cell_type": "markdown",
   "metadata": {},
   "source": [
    "For $t, u \\in \\mathbb{C} \\backslash \\{ 0 \\}$ with $t + u \\neq 0$, we define ideals\n",
    "\\begin{align*}\n",
    "J_{t, u} &:= (xy, x^2 + (t + u)y^2), \\\\\n",
    "K_{t, u} &:= (x, y + (t + u)z), \\\\\n",
    "L_{t, u} &:= (y + tz, x^2 + xy + uy^2), \\\\\n",
    "I_{t, u} &:= J_{t, u} \\cap K_{t, u} \\cap L_{t, u}.\n",
    "\\end{align*}\n",
    "\n",
    "# Lemma\n",
    "\n",
    "Let $t, u, t', u' \\in \\mathbb{C} \\backslash \\{ 0 \\}$ with $t + u \\neq 0$, $t' + u' \\neq 0$. If there is $A \\in \\operatorname{SL}_3$ such that $A \\cdot J_{t, u} = J_{t', u'}$, $A \\cdot K_{t, u} = K_{t', u'}$, and $A \\cdot L_{t, u} = L_{t', u'}$, then $A$ is a multiple of the identity.\n",
    "\n",
    "# Proof\n",
    "Such an $A$ has to fix the point $(0:0:1)$ and the line cut out by $x$, i.e.,\n",
    "\n",
    "$A = \\begin{pmatrix}\n",
    "a & b & c \\\\\n",
    "0 & d & e \\\\\n",
    "0 & 0 & f\n",
    "\\end{pmatrix}$\n",
    "\n",
    "for $a, b, c, d, e, f \\in \\mathbb{C}$ with $\\det(A) = adf = 1$."
   ]
  },
  {
   "cell_type": "code",
   "execution_count": 3,
   "metadata": {},
   "outputs": [
    {
     "data": {
      "text/plain": [
       "a*b*x^2 + a*d*x*y"
      ]
     },
     "execution_count": 3,
     "metadata": {},
     "output_type": "execute_result"
    }
   ],
   "source": [
    "(x*y).subs(x = a*x, y = b*x + d*y).expand()"
   ]
  },
  {
   "cell_type": "code",
   "execution_count": 4,
   "metadata": {},
   "outputs": [
    {
     "data": {
      "text/plain": [
       "b^2*t*x^2 + b^2*u*x^2 + 2*b*d*t*x*y + 2*b*d*u*x*y + d^2*t*y^2 + d^2*u*y^2 + a^2*x^2"
      ]
     },
     "execution_count": 4,
     "metadata": {},
     "output_type": "execute_result"
    }
   ],
   "source": [
    "(x^2 + (t + u)*y^2).subs(x = a*x, y = b*x + d*y).expand()"
   ]
  },
  {
   "cell_type": "markdown",
   "metadata": {},
   "source": [
    "By the above computation we get\n",
    "$A \\cdot J_{t, u} = (abx^2 + adxy, (a^2 + b^2(t + u)) x^2 + 2bd(t + u)xy + d^2(t + u)y^2) = J_{t', u'} = (xy, x^2 + (t' + u')y^2)$. This is equivalent to the two wedge products of the given generators being scalar multiples of each other:\n",
    "\n",
    "$\n",
    "xy \\wedge x^2 + (t' + u') xy \\wedge y^2, (a^3d - ab^2d(t + u)) xy \\wedge x^2 + abd^2(t + u) x^2 \\wedge y^2 + ad^3(t + u) xy \\wedge y^2.\n",
    "$\n",
    "\n",
    "We obtain $b = 0$ and $a^2 (u' + t') = d^2 (u + t)$."
   ]
  },
  {
   "cell_type": "code",
   "execution_count": 5,
   "metadata": {},
   "outputs": [
    {
     "data": {
      "text/plain": [
       "c*t*x + e*t*y + f*t*z + d*y"
      ]
     },
     "execution_count": 5,
     "metadata": {},
     "output_type": "execute_result"
    }
   ],
   "source": [
    "(y + t*z).subs(y = d*y, z = c*x + e*y + f*z).expand()"
   ]
  },
  {
   "cell_type": "code",
   "execution_count": 6,
   "metadata": {},
   "outputs": [
    {
     "data": {
      "text/plain": [
       "d^2*u*y^2 + a^2*x^2 + a*d*x*y"
      ]
     },
     "execution_count": 6,
     "metadata": {},
     "output_type": "execute_result"
    }
   ],
   "source": [
    "(x^2 + x*y + u*y^2).subs(x = a*x, y = d*y).expand()"
   ]
  },
  {
   "cell_type": "markdown",
   "metadata": {},
   "source": [
    "Using the vanishing of $b$, we get $A \\cdot L_{t, u} = (ctx + (d + et)y + ftz, a^2x^2 + adxy + d^2uy^2) = L_{t', u'} = (y + t'z, x^2 + xy + u'y^2)$. Comparing the two linear generators leads to $c = 0$ and $ft = (d + et)t'$. Moreover, $a^2x^2 + adxy + d^2uy^2$ and $x^2 + xy + u'y^2$ must be multiples of each other as well. This is only possible if $a = d$, and $u = u'$. Since we previously established $a^2 (u' + t') = d^2 (u + t)$, we get $t = t'$."
   ]
  },
  {
   "cell_type": "code",
   "execution_count": 7,
   "metadata": {},
   "outputs": [
    {
     "data": {
      "text/plain": [
       "e*t*y + e*u*y + f*t*z + f*u*z + a*y"
      ]
     },
     "execution_count": 7,
     "metadata": {},
     "output_type": "execute_result"
    }
   ],
   "source": [
    "(y + (t + u)*z).subs(y = a*y, z = e*y + f*z).expand()"
   ]
  },
  {
   "cell_type": "markdown",
   "metadata": {},
   "source": [
    "At this point, we use the final hypothesis $A \\cdot K_{t, u} = (x, (a + e(t + u))y + f(t + u)z) = K_{t, u} = (x, y + (t + u)z)$. This yields $a + e(t + u) = f$, and since we already showed $f = a + et$, we get $e = 0$ and $f = a$."
   ]
  },
  {
   "cell_type": "code",
   "execution_count": null,
   "metadata": {},
   "outputs": [],
   "source": []
  }
 ],
 "metadata": {
  "kernelspec": {
   "display_name": "SageMath 9.5",
   "language": "sage",
   "name": "sagemath"
  },
  "language_info": {
   "codemirror_mode": {
    "name": "ipython",
    "version": 3
   },
   "file_extension": ".py",
   "mimetype": "text/x-python",
   "name": "python",
   "nbconvert_exporter": "python",
   "pygments_lexer": "ipython3",
   "version": "3.8.10"
  }
 },
 "nbformat": 4,
 "nbformat_minor": 4
}
