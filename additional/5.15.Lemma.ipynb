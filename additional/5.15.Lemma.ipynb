{
 "cells": [
  {
   "cell_type": "code",
   "execution_count": null,
   "metadata": {},
   "outputs": [],
   "source": [
    "# ****************************************************************************\n",
    "#       Copyright (C) 2022 Patricio Gallardo, Benjamin Schmidt\n",
    "#       Contact: <pgallard@ucr.edu, schmbe@gmail.com>\n",
    "#\n",
    "# This program is free software: you can redistribute it and/or modify\n",
    "# it under the terms of the GNU General Public License as published by\n",
    "# the Free Software Foundation, either version 3 of the License, or\n",
    "# (at your option) any later version.\n",
    "#\n",
    "# This program is distributed in the hope that it will be useful,\n",
    "# but WITHOUT ANY WARRANTY; without even the implied warranty of\n",
    "# MERCHANTABILITY or FITNESS FOR A PARTICULAR PURPOSE. See the\n",
    "# GNU General Public License for more details.\n",
    "#\n",
    "# You should have received a copy of the GNU General Public License\n",
    "# along with this program.  If not, see <https://www.gnu.org/licenses/>.\n",
    "# ****************************************************************************"
   ]
  },
  {
   "cell_type": "markdown",
   "metadata": {},
   "source": [
    "# Lemma\n",
    "\n",
    "For any $w \\in \\mathbb{C}$, we have $[e_4 + e_8 - (w + 1) e_9] = T \\cdot [e_4 + e_8 + w e_9]$ for\n",
    "\n",
    "$T = \\begin{pmatrix}\n",
    "0  & 0  & 1 \\\\ \n",
    "0  & -1 & 0 \\\\\n",
    "-1 & 0  & 0 \n",
    "\\end{pmatrix}$.\n",
    "\n",
    "# Proof"
   ]
  },
  {
   "cell_type": "code",
   "execution_count": 2,
   "metadata": {},
   "outputs": [],
   "source": [
    "import os, sys\n",
    "sys.path.insert\n",
    "sys.path.insert(1, os.path.realpath(os.path.pardir))\n",
    "from group_action import group_action"
   ]
  },
  {
   "cell_type": "markdown",
   "metadata": {},
   "source": [
    "The function `group_action` computes the action of $\\operatorname{SL}_3$ on $H^0(\\Omega(4))$. "
   ]
  },
  {
   "cell_type": "code",
   "execution_count": 6,
   "metadata": {},
   "outputs": [
    {
     "data": {
      "text/plain": [
       "[0, 0, 0, 0, -1, 0, 0, 0, -1, w + 1, 0, 0, 0, 0, 0]"
      ]
     },
     "execution_count": 6,
     "metadata": {},
     "output_type": "execute_result"
    }
   ],
   "source": [
    "var('w')\n",
    "T = matrix([[0 ,  0, 1],\n",
    "            [0 , -1, 0],\n",
    "            [-1,  0, 0]])\n",
    "group_action([0, 0, 0, 0, 1, 0, 0, 0, 1, w, 0, 0, 0, 0, 0], T)"
   ]
  },
  {
   "cell_type": "code",
   "execution_count": null,
   "metadata": {},
   "outputs": [],
   "source": []
  }
 ],
 "metadata": {
  "kernelspec": {
   "display_name": "SageMath 9.0",
   "language": "sage",
   "name": "sagemath"
  },
  "language_info": {
   "codemirror_mode": {
    "name": "ipython",
    "version": 3
   },
   "file_extension": ".py",
   "mimetype": "text/x-python",
   "name": "python",
   "nbconvert_exporter": "python",
   "pygments_lexer": "ipython3",
   "version": "3.8.10"
  }
 },
 "nbformat": 4,
 "nbformat_minor": 4
}
